{
 "cells": [
  {
   "cell_type": "code",
   "execution_count": 2,
   "metadata": {},
   "outputs": [],
   "source": [
    "import os\n",
    "import sys\n",
    "module_path = os.path.abspath(os.path.join('..'))\n",
    "if module_path not in sys.path:\n",
    "    sys.path.append(module_path)\n",
    "from metrics.Multilabel_classification_metrics import Precision, Accuracy, Recall, F1Measure, Hamming_Loss\n",
    "from sklearn.naive_bayes import MultinomialNB\n",
    "from sklearn.multioutput import ClassifierChain\n",
    "import pickle\n",
    "import pandas as pd\n",
    "import numpy as np\n",
    "from sklearn.linear_model import LogisticRegression\n",
    "from sklearn.multiclass import OneVsRestClassifier\n",
    "from sklearn.metrics import f1_score, accuracy_score"
   ]
  },
  {
   "cell_type": "markdown",
   "metadata": {},
   "source": [
    "### Load Data"
   ]
  },
  {
   "cell_type": "code",
   "execution_count": 4,
   "metadata": {},
   "outputs": [],
   "source": [
    "# Dataframe\n",
    "path_df = \"../Pickles/multilabel_binarizer.pickle\"\n",
    "with open(path_df, 'rb') as data:\n",
    "    multilabel_binarizer = pickle.load(data)\n",
    "\n",
    "# features_train\n",
    "path_features_train = \"../Pickles/features_train.pickle\"\n",
    "with open(path_features_train, 'rb') as data:\n",
    "    features_train = pickle.load(data)\n",
    "\n",
    "# labels_train\n",
    "path_labels_train = \"../Pickles/labels_train.pickle\"\n",
    "with open(path_labels_train, 'rb') as data:\n",
    "    labels_train = pickle.load(data)\n",
    "\n",
    "# features_test\n",
    "path_features_test = \"../Pickles/features_test.pickle\"\n",
    "with open(path_features_test, 'rb') as data:\n",
    "    features_test = pickle.load(data)\n",
    "\n",
    "# labels_test\n",
    "path_labels_test = \"../Pickles/labels_test.pickle\"\n",
    "with open(path_labels_test, 'rb') as data:\n",
    "    labels_test = pickle.load(data)"
   ]
  },
  {
   "cell_type": "markdown",
   "metadata": {},
   "source": [
    "### Train model"
   ]
  },
  {
   "cell_type": "code",
   "execution_count": 5,
   "metadata": {},
   "outputs": [],
   "source": [
    "clf = ClassifierChain(MultinomialNB())\n",
    "clf.fit(features_train,labels_train)\n",
    "y_predictions = clf.predict(features_test)"
   ]
  },
  {
   "cell_type": "code",
   "execution_count": 6,
   "metadata": {},
   "outputs": [
    {
     "data": {
      "text/plain": [
       "('Fiction', 'Novel')"
      ]
     },
     "execution_count": 6,
     "metadata": {},
     "output_type": "execute_result"
    }
   ],
   "source": [
    "multilabel_binarizer.inverse_transform(y_predictions)[95]"
   ]
  },
  {
   "cell_type": "code",
   "execution_count": 7,
   "metadata": {},
   "outputs": [
    {
     "data": {
      "text/plain": [
       "0.28958805744519683"
      ]
     },
     "execution_count": 7,
     "metadata": {},
     "output_type": "execute_result"
    }
   ],
   "source": [
    "F1Measure(labels_test, y_predictions)"
   ]
  },
  {
   "cell_type": "code",
   "execution_count": 8,
   "metadata": {},
   "outputs": [
    {
     "data": {
      "text/plain": [
       "array([[0.19997835, 0.0358366 , 0.02673108, ..., 0.02620826, 0.0219563 ,\n",
       "        0.04747359],\n",
       "       [0.127521  , 0.03953723, 0.05731229, ..., 0.06813338, 0.02401308,\n",
       "        0.00853458],\n",
       "       [0.14026314, 0.02803743, 0.11264337, ..., 0.2891638 , 0.01636124,\n",
       "        0.14843827],\n",
       "       ...,\n",
       "       [0.10952384, 0.02176672, 0.08624203, ..., 0.25775045, 0.01720869,\n",
       "        0.07862722],\n",
       "       [0.10066258, 0.07224459, 0.09508248, ..., 0.1842166 , 0.05624017,\n",
       "        0.05701813],\n",
       "       [0.21828009, 0.07378297, 0.08263376, ..., 0.2160141 , 0.05508707,\n",
       "        0.26089134]])"
      ]
     },
     "execution_count": 8,
     "metadata": {},
     "output_type": "execute_result"
    }
   ],
   "source": [
    "y_pred_prob = clf.predict_proba(features_test)\n",
    "y_pred_prob"
   ]
  },
  {
   "cell_type": "code",
   "execution_count": 9,
   "metadata": {},
   "outputs": [],
   "source": [
    "def findBestThresholdForLabel(predicted, expected):\n",
    "    thresholds = np.arange(0.0,1.0, 0.005)\n",
    "    best_thresh = 0.0\n",
    "    best_accuracy = 0.0\n",
    "    for t in thresholds:\n",
    "       y_pred_new = (predicted >= t).astype(int)\n",
    "       best_accuracy_cur = accuracy_score(expected, y_pred_new)\n",
    "       if best_accuracy_cur >= best_accuracy:\n",
    "           best_thresh = t\n",
    "           best_accuracy = best_accuracy_cur\n",
    "    return best_thresh\n",
    "       \n",
    "def getBestThresholdsForLables(predicted_list, expected_list):\n",
    "    array_of_thresholds = []\n",
    "    for i in range(0, len(predicted_list[0])):\n",
    "        predicted_column = getColumn(predicted_list, i)\n",
    "        expected_column = getColumn(expected_list, i)\n",
    "        array_of_thresholds.append(findBestThresholdForLabel(predicted_column, expected_column))\n",
    "    return array_of_thresholds\n",
    "\n",
    "def getColumn(list_of_labels, index) :\n",
    "    return [l[index] for l in list_of_labels]"
   ]
  },
  {
   "cell_type": "code",
   "execution_count": 10,
   "metadata": {},
   "outputs": [],
   "source": [
    "list_of_thresholds = getBestThresholdsForLables( y_pred_prob, labels_test)"
   ]
  },
  {
   "cell_type": "code",
   "execution_count": 13,
   "metadata": {},
   "outputs": [],
   "source": [
    "t = 0.2485 # threshold value\n",
    "y_pred_new = (y_pred_prob >= t).astype(int)"
   ]
  },
  {
   "cell_type": "code",
   "execution_count": 11,
   "metadata": {},
   "outputs": [],
   "source": [
    "for key,values in enumerate(y_pred_prob):\n",
    "    for key1,values1 in enumerate(values):\n",
    "        y_pred_prob[key][key1] = int(values1 >= list_of_thresholds[key1])"
   ]
  },
  {
   "cell_type": "code",
   "execution_count": 14,
   "metadata": {},
   "outputs": [
    {
     "data": {
      "text/plain": [
       "0.4069765217472451"
      ]
     },
     "execution_count": 14,
     "metadata": {},
     "output_type": "execute_result"
    }
   ],
   "source": [
    "F1Measure(labels_test, y_pred_prob)"
   ]
  },
  {
   "cell_type": "code",
   "execution_count": 13,
   "metadata": {},
   "outputs": [
    {
     "data": {
      "text/plain": [
       "0.12962962962962962"
      ]
     },
     "execution_count": 13,
     "metadata": {},
     "output_type": "execute_result"
    }
   ],
   "source": [
    "accuracy_score(labels_test, y_pred_prob)"
   ]
  },
  {
   "cell_type": "code",
   "execution_count": 15,
   "metadata": {},
   "outputs": [
    {
     "data": {
      "text/plain": [
       "0.3379678620419364"
      ]
     },
     "execution_count": 15,
     "metadata": {},
     "output_type": "execute_result"
    }
   ],
   "source": [
    "Accuracy(labels_test, y_pred_prob)"
   ]
  },
  {
   "cell_type": "code",
   "execution_count": 16,
   "metadata": {},
   "outputs": [
    {
     "data": {
      "text/plain": [
       "0.42202625906329666"
      ]
     },
     "execution_count": 16,
     "metadata": {},
     "output_type": "execute_result"
    }
   ],
   "source": [
    "Precision(labels_test, y_pred_prob)"
   ]
  },
  {
   "cell_type": "code",
   "execution_count": 17,
   "metadata": {},
   "outputs": [
    {
     "data": {
      "text/plain": [
       "0.4646531452087007"
      ]
     },
     "execution_count": 17,
     "metadata": {},
     "output_type": "execute_result"
    }
   ],
   "source": [
    "Recall(labels_test, y_pred_prob)"
   ]
  }
 ],
 "metadata": {
  "interpreter": {
   "hash": "aee8b7b246df8f9039afb4144a1f6fd8d2ca17a180786b69acc140d282b71a49"
  },
  "kernelspec": {
   "display_name": "Python 3 (ipykernel)",
   "language": "python",
   "name": "python3"
  },
  "language_info": {
   "codemirror_mode": {
    "name": "ipython",
    "version": 3
   },
   "file_extension": ".py",
   "mimetype": "text/x-python",
   "name": "python",
   "nbconvert_exporter": "python",
   "pygments_lexer": "ipython3",
   "version": "3.9.9"
  }
 },
 "nbformat": 4,
 "nbformat_minor": 2
}

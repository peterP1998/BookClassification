{
 "cells": [
  {
   "cell_type": "markdown",
   "metadata": {},
   "source": [
    "# Neural Network"
   ]
  },
  {
   "cell_type": "code",
   "execution_count": 260,
   "metadata": {},
   "outputs": [],
   "source": [
    "import os\n",
    "import sys\n",
    "module_path = os.path.abspath(os.path.join('..'))\n",
    "if module_path not in sys.path:\n",
    "    sys.path.append(module_path)\n",
    "from metrics.Multilabel_classification_metrics import Precision, Accuracy, Recall, F1Measure, Hamming_Loss\n",
    "\n",
    "import pickle\n",
    "import pandas as pd\n",
    "import numpy as np\n",
    "import tensorflow as tf\n",
    "from sklearn.linear_model import LogisticRegression\n",
    "from sklearn.multiclass import OneVsRestClassifier\n",
    "from sklearn.metrics import f1_score, accuracy_score\n",
    "from sklearn.model_selection import RepeatedKFold\n",
    "from keras.models import Sequential\n",
    "from keras import layers, optimizers, losses\n",
    "from keras.backend import clear_session\n",
    "import keras_tuner as kt"
   ]
  },
  {
   "cell_type": "markdown",
   "metadata": {},
   "source": [
    "## Load pickles objects"
   ]
  },
  {
   "cell_type": "code",
   "execution_count": 4,
   "metadata": {},
   "outputs": [],
   "source": [
    "# Dataframe\n",
    "path_df = \"../Pickles/multilabel_binarizer.pickle\"\n",
    "with open(path_df, 'rb') as data:\n",
    "    multilabel_binarizer = pickle.load(data)\n",
    "\n",
    "# features_train\n",
    "path_features_train = \"../Pickles/features_train.pickle\"\n",
    "with open(path_features_train, 'rb') as data:\n",
    "    features_train = pickle.load(data)\n",
    "\n",
    "# labels_train\n",
    "path_labels_train = \"../Pickles/labels_train.pickle\"\n",
    "with open(path_labels_train, 'rb') as data:\n",
    "    labels_train = pickle.load(data)\n",
    "\n",
    "# features_test\n",
    "path_features_test = \"../Pickles/features_test.pickle\"\n",
    "with open(path_features_test, 'rb') as data:\n",
    "    features_test = pickle.load(data)\n",
    "\n",
    "# labels_test\n",
    "path_labels_test = \"../Pickles/labels_test.pickle\"\n",
    "with open(path_labels_test, 'rb') as data:\n",
    "    labels_test = pickle.load(data)"
   ]
  },
  {
   "cell_type": "code",
   "execution_count": 18,
   "metadata": {},
   "outputs": [],
   "source": [
    "# define the model\n",
    "def get_model(n_inputs, n_outputs):\n",
    "\tmodel = Sequential()\n",
    "\tmodel.add(layers.Dense(20, input_dim=n_inputs, kernel_initializer='he_uniform', activation='relu'))\n",
    "\tmodel.add(layers.Dense(n_outputs, activation='sigmoid'))\n",
    "\tmodel.compile(loss='binary_crossentropy', optimizer='adam')\n",
    "\treturn model"
   ]
  },
  {
   "cell_type": "code",
   "execution_count": 72,
   "metadata": {},
   "outputs": [
    {
     "name": "stdout",
     "output_type": "stream",
     "text": [
      "Epoch 1/15\n",
      "857/857 [==============================] - 2s 2ms/step - loss: 0.2794\n",
      "Epoch 2/15\n",
      "857/857 [==============================] - 1s 2ms/step - loss: 0.2109\n",
      "Epoch 3/15\n",
      "857/857 [==============================] - 1s 2ms/step - loss: 0.1923\n",
      "Epoch 4/15\n",
      "857/857 [==============================] - 2s 2ms/step - loss: 0.1821\n",
      "Epoch 5/15\n",
      "857/857 [==============================] - 2s 2ms/step - loss: 0.1748\n",
      "Epoch 6/15\n",
      "857/857 [==============================] - 1s 2ms/step - loss: 0.1693\n",
      "Epoch 7/15\n",
      "857/857 [==============================] - 1s 2ms/step - loss: 0.1648\n",
      "Epoch 8/15\n",
      "857/857 [==============================] - 1s 2ms/step - loss: 0.1609\n",
      "Epoch 9/15\n",
      "857/857 [==============================] - 2s 2ms/step - loss: 0.1575\n",
      "Epoch 10/15\n",
      "857/857 [==============================] - 2s 2ms/step - loss: 0.1547\n",
      "Epoch 11/15\n",
      "857/857 [==============================] - 1s 2ms/step - loss: 0.1522\n",
      "Epoch 12/15\n",
      "857/857 [==============================] - 2s 2ms/step - loss: 0.1499\n",
      "Epoch 13/15\n",
      "857/857 [==============================] - 1s 2ms/step - loss: 0.1479\n",
      "Epoch 14/15\n",
      "857/857 [==============================] - 1s 2ms/step - loss: 0.1460\n",
      "Epoch 15/15\n",
      "857/857 [==============================] - 1s 1ms/step - loss: 0.1443\n"
     ]
    }
   ],
   "source": [
    "clear_session()\n",
    "model = get_model(1000, 27)\n",
    "history = model.fit(features_train, labels_train,\n",
    "                     epochs=15,\n",
    "                     verbose=True,\n",
    "                     batch_size=10)"
   ]
  },
  {
   "cell_type": "code",
   "execution_count": 12,
   "metadata": {},
   "outputs": [
    {
     "name": "stdout",
     "output_type": "stream",
     "text": [
      "115/115 [==============================] - 0s 1ms/step\n"
     ]
    }
   ],
   "source": [
    "...\n",
    "# make a prediction on the test set\n",
    "yhat = model.predict(features_test)\n",
    "# round probabilities to class labels\n",
    "yhat = yhat.round()\n",
    "yhat = yhat.astype(int)\n",
    "# calculate accuracy\n",
    "acc = accuracy_score(labels_test, yhat)"
   ]
  },
  {
   "cell_type": "code",
   "execution_count": 14,
   "metadata": {},
   "outputs": [
    {
     "name": "stdout",
     "output_type": "stream",
     "text": [
      "[0 0 0 0 0 0 0 0 0 0 0 1 0 0 0 0 0 0 0 0 0 0 0 0 0 0 0]\n",
      "[0 0 0 0 0 0 0 0 0 0 0 1 0 0 0 0 0 0 1 1 0 0 0 0 0 0 0]\n",
      "0.10726926218350122\n"
     ]
    }
   ],
   "source": [
    "print(yhat[8])\n",
    "print(labels_test[8])\n",
    "print(acc)"
   ]
  },
  {
   "cell_type": "code",
   "execution_count": null,
   "metadata": {},
   "outputs": [],
   "source": [
    "import keras.backend as K\n",
    "from tensorflow.python.ops.numpy_ops import np_config\n",
    "np_config.enable_numpy_behavior()\n",
    "\n",
    "def get_f1(y_true, y_pred): #taken from old keras source code\n",
    "    true_positives = K.sum(K.round(K.clip(y_true * y_pred, 0, 1)))\n",
    "    possible_positives = K.sum(K.round(K.clip(y_true, 0, 1)))\n",
    "    predicted_positives = K.sum(K.round(K.clip(y_pred, 0, 1)))\n",
    "    precision = true_positives / (predicted_positives + K.epsilon())\n",
    "    recall = true_positives / (possible_positives + K.epsilon())\n",
    "    f1_val = 2*(precision*recall)/(precision+recall+K.epsilon())\n",
    "\n",
    "    return f1_val\n",
    "def get_аccuracy(y_true, y_pred):\n",
    "    temp = K.sum(K.round(K.clip(y_true * y_pred, 0, 1))) / K.sum(tf.where((K.equal(K.clip(y_true, 0, 1), K.clip(y_pred, 0, 1))), 0, 1))\n",
    "    return 5"
   ]
  },
  {
   "cell_type": "code",
   "execution_count": 347,
   "metadata": {},
   "outputs": [],
   "source": [
    "def model_builder(hp):\n",
    "\n",
    "  clear_session()\n",
    "  model = Sequential()\n",
    "  hp_units = hp.Int('units', min_value=32, max_value=1024, step=32)\n",
    "  model.add(layers.Dense(units=hp_units, input_dim=1000, kernel_initializer='he_uniform', activation='relu', name='dense_1'))\n",
    "  model.add(layers.Dropout(0.3))\n",
    "  model.add(layers.Dense(27, activation='sigmoid'))\n",
    "  # Tune the learning rate for the optimizer\n",
    "  # Choose an optimal value from 0.01, 0.001, or 0.0001\n",
    "  hp_learning_rate = hp.Choice('learning_rate', values=[ 1e-2, 1e-3, 1e-4])\n",
    "  model.compile(optimizer=optimizers.Adam(learning_rate=hp_learning_rate),\n",
    "                loss=losses.BinaryCrossentropy(),\n",
    "                metrics=[get_аccuracy])\n",
    "  return model"
   ]
  },
  {
   "cell_type": "code",
   "execution_count": 348,
   "metadata": {},
   "outputs": [
    {
     "name": "stdout",
     "output_type": "stream",
     "text": [
      "INFO:tensorflow:Reloading Oracle from existing project .\\untitled_project\\oracle.json\n",
      "INFO:tensorflow:Reloading Tuner from .\\untitled_project\\tuner0.json\n",
      "Search space summary\n",
      "Default search space size: 2\n",
      "units (Int)\n",
      "{'default': None, 'conditions': [], 'min_value': 32, 'max_value': 1024, 'step': 32, 'sampling': None}\n",
      "learning_rate (Choice)\n",
      "{'default': 0.01, 'conditions': [], 'values': [0.01, 0.001, 0.0001], 'ordered': True}\n"
     ]
    }
   ],
   "source": [
    "import keras_tuner\n",
    "tuner = kt.Hyperband(model_builder, # the hypermodel\n",
    "                     objective=keras_tuner.Objective(\"val_get_аccuracy\", direction=\"max\"),\n",
    "max_epochs=10,\n",
    "factor=3)\n",
    "# hypertuning settings\n",
    "tuner.search_space_summary() "
   ]
  },
  {
   "cell_type": "code",
   "execution_count": 350,
   "metadata": {},
   "outputs": [
    {
     "name": "stdout",
     "output_type": "stream",
     "text": [
      "Trial 30 Complete [00h 00m 16s]\n",
      "val_get_аccuracy: 0.008763905614614487\n",
      "\n",
      "Best val_get_аccuracy So Far: nan\n",
      "Total elapsed time: 00h 05m 36s\n",
      "INFO:tensorflow:Oracle triggered exit\n"
     ]
    }
   ],
   "source": [
    "stop_early = tf.keras.callbacks.EarlyStopping(monitor='val_loss', patience=5)\n",
    "# Perform hypertuning\n",
    "tuner.search(features_train, labels_train, epochs=10, validation_split=0.2, callbacks=[stop_early])"
   ]
  },
  {
   "cell_type": "code",
   "execution_count": 251,
   "metadata": {},
   "outputs": [],
   "source": [
    "best_hp=tuner.get_best_hyperparameters()[0]"
   ]
  },
  {
   "cell_type": "code",
   "execution_count": 297,
   "metadata": {},
   "outputs": [
    {
     "data": {
      "text/plain": [
       "{'units': 736,\n",
       " 'learning_rate': 0.01,\n",
       " 'tuner/epochs': 10,\n",
       " 'tuner/initial_epoch': 4,\n",
       " 'tuner/bracket': 1,\n",
       " 'tuner/round': 1,\n",
       " 'tuner/trial_id': '0022'}"
      ]
     },
     "execution_count": 297,
     "metadata": {},
     "output_type": "execute_result"
    }
   ],
   "source": [
    "best_hp.values"
   ]
  },
  {
   "cell_type": "code",
   "execution_count": 298,
   "metadata": {},
   "outputs": [
    {
     "name": "stdout",
     "output_type": "stream",
     "text": [
      "Model: \"sequential\"\n",
      "_________________________________________________________________\n",
      " Layer (type)                Output Shape              Param #   \n",
      "=================================================================\n",
      " dense_1 (Dense)             (None, 736)               736736    \n",
      "                                                                 \n",
      " dropout (Dropout)           (None, 736)               0         \n",
      "                                                                 \n",
      " dense (Dense)               (None, 27)                19899     \n",
      "                                                                 \n",
      "=================================================================\n",
      "Total params: 756,635\n",
      "Trainable params: 756,635\n",
      "Non-trainable params: 0\n",
      "_________________________________________________________________\n",
      "Epoch 1/10\n",
      "215/215 [==============================] - 2s 8ms/step - loss: 0.2040 - accuracy: 0.2682 - get_f1: 0.3488 - val_loss: 0.1799 - val_accuracy: 0.3104 - val_get_f1: 0.4921\n",
      "Epoch 2/10\n",
      "215/215 [==============================] - 2s 7ms/step - loss: 0.1571 - accuracy: 0.3750 - get_f1: 0.5258 - val_loss: 0.1805 - val_accuracy: 0.3407 - val_get_f1: 0.4628\n",
      "Epoch 3/10\n",
      "215/215 [==============================] - 2s 8ms/step - loss: 0.1246 - accuracy: 0.4519 - get_f1: 0.6417 - val_loss: 0.1897 - val_accuracy: 0.3343 - val_get_f1: 0.4559\n",
      "Epoch 4/10\n",
      "215/215 [==============================] - 1s 6ms/step - loss: 0.0881 - accuracy: 0.5352 - get_f1: 0.7659 - val_loss: 0.2100 - val_accuracy: 0.3337 - val_get_f1: 0.4625\n",
      "Epoch 5/10\n",
      "215/215 [==============================] - 1s 7ms/step - loss: 0.0569 - accuracy: 0.5830 - get_f1: 0.8677 - val_loss: 0.2345 - val_accuracy: 0.3267 - val_get_f1: 0.4829\n",
      "Epoch 6/10\n",
      "215/215 [==============================] - 1s 6ms/step - loss: 0.0356 - accuracy: 0.5986 - get_f1: 0.9257 - val_loss: 0.2645 - val_accuracy: 0.2993 - val_get_f1: 0.4654\n",
      "Epoch 7/10\n",
      "215/215 [==============================] - 1s 6ms/step - loss: 0.0254 - accuracy: 0.6174 - get_f1: 0.9501 - val_loss: 0.2911 - val_accuracy: 0.3139 - val_get_f1: 0.4907\n",
      "Epoch 8/10\n",
      "215/215 [==============================] - 1s 6ms/step - loss: 0.0194 - accuracy: 0.6171 - get_f1: 0.9623 - val_loss: 0.3168 - val_accuracy: 0.3028 - val_get_f1: 0.4741\n",
      "Epoch 9/10\n",
      "215/215 [==============================] - 2s 7ms/step - loss: 0.0155 - accuracy: 0.6237 - get_f1: 0.9700 - val_loss: 0.3389 - val_accuracy: 0.3040 - val_get_f1: 0.4694\n",
      "Epoch 10/10\n",
      "215/215 [==============================] - 2s 7ms/step - loss: 0.0138 - accuracy: 0.6222 - get_f1: 0.9733 - val_loss: 0.3532 - val_accuracy: 0.3069 - val_get_f1: 0.4727\n"
     ]
    },
    {
     "data": {
      "text/plain": [
       "<keras.callbacks.History at 0x1f3df098788>"
      ]
     },
     "execution_count": 298,
     "metadata": {},
     "output_type": "execute_result"
    }
   ],
   "source": [
    "h_model = tuner.hypermodel.build(best_hp)\n",
    "h_model.summary()\n",
    "h_model.fit(features_train, labels_train, epochs=10, validation_split=0.2)"
   ]
  },
  {
   "cell_type": "code",
   "execution_count": 299,
   "metadata": {},
   "outputs": [
    {
     "name": "stdout",
     "output_type": "stream",
     "text": [
      "115/115 [==============================] - 0s 3ms/step\n",
      "[[5.8118053e-07 5.6287036e-03 5.9970353e-07 ... 1.0341449e-08\n",
      "  1.5575399e-05 1.1338976e-04]\n",
      " [3.6363285e-06 4.1961260e-02 5.2793190e-08 ... 7.2307889e-03\n",
      "  1.1991366e-03 2.4305526e-05]\n",
      " [2.0567140e-04 2.0624622e-05 5.1120918e-05 ... 4.3716770e-02\n",
      "  6.1602038e-01 9.9592054e-01]\n",
      " ...\n",
      " [1.7612297e-06 1.5862512e-06 9.2432829e-06 ... 1.9532758e-05\n",
      "  2.5248507e-04 9.1320783e-01]\n",
      " [2.1747803e-05 2.0280933e-07 1.7929125e-11 ... 2.7457644e-11\n",
      "  1.8110288e-11 1.1940379e-09]\n",
      " [1.8917372e-04 7.6019067e-05 1.4485509e-07 ... 1.0461893e-06\n",
      "  1.1913580e-09 4.1069746e-01]]\n"
     ]
    }
   ],
   "source": [
    "yhat = h_model.predict(features_test)\n",
    "# round probabilities to class labels\n",
    "print(yhat)"
   ]
  },
  {
   "cell_type": "code",
   "execution_count": 300,
   "metadata": {},
   "outputs": [
    {
     "name": "stdout",
     "output_type": "stream",
     "text": [
      "[0 0 0 0 0 0 0 0 0 0 0 0 0 0 0 0 0 0 0 0 0 0 0 0 0 0 0]\n",
      "[0 0 0 0 0 0 0 1 0 0 0 1 0 0 0 0 1 0 0 0 0 0 0 0 1 1 0]\n"
     ]
    }
   ],
   "source": [
    "t = 0.3 # threshold value\n",
    "y_pred_new = (yhat >= t).astype(int)\n",
    "print(y_pred_new[5])\n",
    "print(labels_test[5])\n",
    "# # calculate accuracy\n",
    "acc = accuracy_score(labels_test, y_pred_new)"
   ]
  },
  {
   "cell_type": "code",
   "execution_count": 301,
   "metadata": {},
   "outputs": [
    {
     "name": "stdout",
     "output_type": "stream",
     "text": [
      "[1.47350727e-08 8.68962445e-07 1.32081880e-07 4.19184715e-07\n",
      " 1.09973134e-05 7.54828751e-02 1.21037054e-04 4.74196719e-03\n",
      " 2.74101285e-06 1.03551156e-06 1.00373570e-03 9.97187912e-01\n",
      " 2.56042739e-07 1.32942328e-03 3.13591522e-06 1.61995308e-06\n",
      " 2.01097250e-01 1.98437586e-08 2.70127156e-03 2.43710548e-01\n",
      " 8.54338723e-05 4.16329249e-06 1.10403111e-03 1.06175911e-07\n",
      " 5.02693772e-01 4.51238775e-05 5.96679002e-03]\n",
      "[0 0 0 0 0 0 0 0 0 0 0 1 0 0 0 0 0 0 1 1 0 0 0 0 0 0 0]\n",
      "0.0999183228968146\n"
     ]
    }
   ],
   "source": [
    "print(yhat[8])\n",
    "print(labels_test[8])\n",
    "print(acc)"
   ]
  },
  {
   "cell_type": "code",
   "execution_count": 302,
   "metadata": {},
   "outputs": [
    {
     "data": {
      "text/plain": [
       "0.4348223984624788"
      ]
     },
     "execution_count": 302,
     "metadata": {},
     "output_type": "execute_result"
    }
   ],
   "source": [
    "# evaluate performance\n",
    "F1Measure(labels_test, y_pred_new)"
   ]
  },
  {
   "cell_type": "code",
   "execution_count": 303,
   "metadata": {},
   "outputs": [
    {
     "data": {
      "text/plain": [
       "0.0999183228968146"
      ]
     },
     "execution_count": 303,
     "metadata": {},
     "output_type": "execute_result"
    }
   ],
   "source": [
    "# Exact Match Ratio:\n",
    "accuracy_score(labels_test, y_pred_new)"
   ]
  },
  {
   "cell_type": "code",
   "execution_count": 304,
   "metadata": {},
   "outputs": [
    {
     "data": {
      "text/plain": [
       "0.348134175169297"
      ]
     },
     "execution_count": 304,
     "metadata": {},
     "output_type": "execute_result"
    }
   ],
   "source": [
    "Accuracy(labels_test, y_pred_new)"
   ]
  },
  {
   "cell_type": "code",
   "execution_count": 305,
   "metadata": {},
   "outputs": [
    {
     "data": {
      "text/plain": [
       "0.48586888880245827"
      ]
     },
     "execution_count": 305,
     "metadata": {},
     "output_type": "execute_result"
    }
   ],
   "source": [
    "Precision(labels_test, y_pred_new)"
   ]
  },
  {
   "cell_type": "code",
   "execution_count": 306,
   "metadata": {},
   "outputs": [
    {
     "data": {
      "text/plain": [
       "0.46467919048915535"
      ]
     },
     "execution_count": 306,
     "metadata": {},
     "output_type": "execute_result"
    }
   ],
   "source": [
    "Recall(labels_test, y_pred_new)"
   ]
  },
  {
   "cell_type": "code",
   "execution_count": 365,
   "metadata": {},
   "outputs": [
    {
     "data": {
      "text/plain": [
       "array(['Adventure novel', 'Alternate history', 'Autobiography',\n",
       "       'Biography', \"Children's literature\", 'Comedy', 'Comic novel',\n",
       "       'Crime Fiction', 'Detective fiction', 'Dystopia', 'Fantasy',\n",
       "       'Fiction', 'Gothic fiction', 'Historical fiction',\n",
       "       'Historical novel', 'Horror', 'Mystery', 'Non-fiction', 'Novel',\n",
       "       'Romance novel', 'Satire', 'Science Fiction',\n",
       "       'Speculative fiction', 'Spy fiction', 'Suspense', 'Thriller',\n",
       "       'Young adult literature'], dtype=object)"
      ]
     },
     "execution_count": 365,
     "metadata": {},
     "output_type": "execute_result"
    }
   ],
   "source": [
    "multilabel_binarizer.classes_"
   ]
  },
  {
   "cell_type": "code",
   "execution_count": 377,
   "metadata": {},
   "outputs": [
    {
     "data": {
      "image/png": "[encoded data removed]",
      "text/plain": [
       "<Figure size 1800x1080 with 29 Axes>"
      ]
     },
     "metadata": {
      "needs_background": "light"
     },
     "output_type": "display_data"
    }
   ],
   "source": [
    "\n",
    "from sklearn.metrics import confusion_matrix, ConfusionMatrixDisplay\n",
    "import matplotlib.pyplot as plt\n",
    "classes = multilabel_binarizer.classes_\n",
    "f, axes = plt.subplots(4, 7, figsize=(25, 15))\n",
    "axes = axes.ravel()\n",
    "for i in range(27):\n",
    "    disp = ConfusionMatrixDisplay(confusion_matrix(labels_test[:, i],\n",
    "                                                   y_pred_new[:, i]),\n",
    "                                  display_labels=[0, i])\n",
    "    disp.plot(ax=axes[i], values_format='.4g')\n",
    "    disp.ax_.set_title(f'class {classes[i]}')\n",
    "    disp.ax_.set_ylabel('')\n",
    "    disp.im_.colorbar.remove()\n",
    "\n",
    "plt.subplots_adjust(wspace=0.25, hspace=0.4)\n",
    "f.colorbar(disp.im_, ax=axes)\n",
    "plt.show()"
   ]
  }
 ],
 "metadata": {
  "kernelspec": {
   "display_name": "Python 3.7.4 ('venv': venv)",
   "language": "python",
   "name": "python3"
  },
  "language_info": {
   "codemirror_mode": {
    "name": "ipython",
    "version": 3
   },
   "file_extension": ".py",
   "mimetype": "text/x-python",
   "name": "python",
   "nbconvert_exporter": "python",
   "pygments_lexer": "ipython3",
   "version": "3.7.4"
  },
  "vscode": {
   "interpreter": {
    "hash": "d1f870d34bcdf52e10ac0b8d2cd80f05de5376af0f0eb54c01c06fc223b4c3e0"
   }
  }
 },
 "nbformat": 4,
 "nbformat_minor": 2
}

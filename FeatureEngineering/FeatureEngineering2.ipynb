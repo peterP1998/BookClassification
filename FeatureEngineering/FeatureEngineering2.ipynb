{
 "cells": [
  {
   "cell_type": "markdown",
   "metadata": {},
   "source": [
    "# Feature Engineering"
   ]
  },
  {
   "cell_type": "code",
   "execution_count": 7,
   "metadata": {},
   "outputs": [],
   "source": [
    "import pickle\n",
    "import pandas as pd\n",
    "import numpy as np\n",
    "from nltk.corpus import stopwords\n",
    "from sklearn.feature_extraction.text import TfidfVectorizer\n",
    "from sklearn.model_selection import train_test_split\n",
    "from sklearn.preprocessing import MultiLabelBinarizer\n",
    "import re\n",
    "import json\n"
   ]
  },
  {
   "cell_type": "markdown",
   "metadata": {},
   "source": [
    "### Text Cleaning"
   ]
  },
  {
   "cell_type": "code",
   "execution_count": 8,
   "metadata": {},
   "outputs": [],
   "source": [
    "books = pd.read_csv('../data/booksummaries/data.csv')\n",
    "books.head()\n",
    "genres = []\n",
    "for i in books['genre']:\n",
    "    genres.append(list(json.loads(i).values()))\n",
    "books['genre_new'] = genres"
   ]
  },
  {
   "cell_type": "code",
   "execution_count": 9,
   "metadata": {},
   "outputs": [],
   "source": [
    "def clean_summary(text):\n",
    "    text = re.sub(\"\\'\", \"\", text)\n",
    "    text = re.sub(\"[^a-zA-Z]\",\" \",text)\n",
    "    text = ' '.join(text.split())\n",
    "    text = text.lower()\n",
    "    return text"
   ]
  },
  {
   "cell_type": "code",
   "execution_count": 10,
   "metadata": {},
   "outputs": [
    {
     "data": {
      "text/html": [
       "<div>\n",
       "<style scoped>\n",
       "    .dataframe tbody tr th:only-of-type {\n",
       "        vertical-align: middle;\n",
       "    }\n",
       "\n",
       "    .dataframe tbody tr th {\n",
       "        vertical-align: top;\n",
       "    }\n",
       "\n",
       "    .dataframe thead th {\n",
       "        text-align: right;\n",
       "    }\n",
       "</style>\n",
       "<table border=\"1\" class=\"dataframe\">\n",
       "  <thead>\n",
       "    <tr style=\"text-align: right;\">\n",
       "      <th></th>\n",
       "      <th>summary</th>\n",
       "      <th>clean_summary</th>\n",
       "    </tr>\n",
       "  </thead>\n",
       "  <tbody>\n",
       "    <tr>\n",
       "      <th>0</th>\n",
       "      <td>Old Major, the old boar on the Manor Farm, ca...</td>\n",
       "      <td>old major the old boar on the manor farm calls...</td>\n",
       "    </tr>\n",
       "    <tr>\n",
       "      <th>1</th>\n",
       "      <td>Alex, a teenager living in near-future Englan...</td>\n",
       "      <td>alex a teenager living in near future england ...</td>\n",
       "    </tr>\n",
       "  </tbody>\n",
       "</table>\n",
       "</div>"
      ],
      "text/plain": [
       "                                             summary  \\\n",
       "0   Old Major, the old boar on the Manor Farm, ca...   \n",
       "1   Alex, a teenager living in near-future Englan...   \n",
       "\n",
       "                                       clean_summary  \n",
       "0  old major the old boar on the manor farm calls...  \n",
       "1  alex a teenager living in near future england ...  "
      ]
     },
     "execution_count": 10,
     "metadata": {},
     "output_type": "execute_result"
    }
   ],
   "source": [
    "books['clean_summary'] = books['summary'].apply(lambda x: clean_summary(x))\n",
    "books[['summary','clean_summary']].head(2)"
   ]
  },
  {
   "cell_type": "code",
   "execution_count": 11,
   "metadata": {},
   "outputs": [],
   "source": [
    "stop_words = set(stopwords.words('english'))\n",
    "def remove_stopwords(text):\n",
    "    no_stopword_text = [w for w in text.split() if not w in stop_words]\n",
    "    return ' '.join(no_stopword_text)\n",
    "\n",
    "books['clean_summary'] = books['clean_summary'].apply(lambda x: remove_stopwords(x))"
   ]
  },
  {
   "cell_type": "code",
   "execution_count": 12,
   "metadata": {},
   "outputs": [
    {
     "data": {
      "text/plain": [
       "'old major old boar manor farm calls animals farm meeting compares humans parasites teaches animals revolutionary song beasts england major dies two young pigs snowball napoleon assume command turn dream philosophy animals revolt drive drunken irresponsible mr jones farm renaming animal farm adopt seven commandments animal ism important animals equal snowball attempts teach animals reading writing food plentiful farm runs smoothly pigs elevate positions leadership set aside special food items ostensibly personal health napoleon takes pups farm dogs trains privately napoleon snowball struggle leadership snowball announces plans build windmill napoleon dogs chase snowball away declares leader napoleon enacts changes governance structure farm replacing meetings committee pigs run farm using young pig named squealer mouthpiece napoleon claims credit windmill idea animals work harder promise easier lives windmill violent storm animals find windmill annihilated napoleon squealer convince animals snowball destroyed although scorn neighbouring farmers suggests walls thin snowball becomes scapegoat napoleon begins purging farm dogs killing animals accuses consorting old rival pigs abuse power imposing control reserving privileges rewriting history villainising snowball glorifying napoleon squealer justifies every statement napoleon makes even pigs alteration seven commandments animalism benefit beasts england replaced anthem glorifying napoleon appears adopting lifestyle man animals remain convinced better mr jones squealer abuses animals poor memories invents numbers show improvement mr frederick one neighbouring farmers attacks farm using blasting powder blow restored windmill though animals win battle great cost many including boxer workhorse wounded despite injuries boxer continues working harder harder collapses working windmill napoleon sends van take boxer veterinary surgeons explaining better care given benjamin cynical donkey could read well pig notices van belongs knacker attempts mount rescue animals attempts futile squealer reports van purchased hospital writing previous owner repainted recounts tale boxers death hands best medical care years pass pigs learn walk upright carry whips wear clothes seven commandments reduced single phrase animals equal animals equal others napoleon holds dinner party pigs humans area congratulate napoleon hardest working least fed animals country napoleon announces alliance humans labouring classes worlds abolishes practices traditions related revolution changes name farm manor farm animals overhearing conversation notice faces pigs begun changing poker match argument breaks napoleon mr pilkington animals realise faces pigs look like faces humans one tell difference pigs snowball napoleon squealer adapt old majors ideas actual philosophy formally name animalism soon napoleon squealer indulge vices humans drinking alcohol sleeping beds trading squealer employed alter seven commandments account humanisation allusion soviet governments revising history order exercise control peoples beliefs society original commandments whatever goes upon two legs enemy whatever goes upon four legs wings friend animal shall wear clothes animal shall sleep bed animal shall drink alcohol animal shall kill animal animals equal later napoleon pigs secretly revise commandments clear accusations law breaking animal shall drink alcohol excess appended animal shall sleep bed sheets added changed commandments follows changes bolded animal shall sleep bed sheets animal shall drink alcohol excess animal shall kill animal without cause eventually replaced maxims animals equal animals equal others four legs good two legs better pigs become human ironic twist original purpose seven commandments supposed keep order within animal farm uniting animals together humans prevent animals following humans evil habits revision commandments orwell demonstrates simply political dogma turned malleable propaganda'"
      ]
     },
     "execution_count": 12,
     "metadata": {},
     "output_type": "execute_result"
    }
   ],
   "source": [
    "books['clean_summary'][0]"
   ]
  },
  {
   "cell_type": "markdown",
   "metadata": {},
   "source": [
    "### Remove all labels that you can find less than 100 times"
   ]
  },
  {
   "cell_type": "code",
   "execution_count": 13,
   "metadata": {},
   "outputs": [
    {
     "data": {
      "text/plain": [
       "{'Roman à clef': 29,\n",
       " 'Satire': 123,\n",
       " \"Children's literature\": 2122,\n",
       " 'Speculative fiction': 4314,\n",
       " 'Fiction': 4747,\n",
       " 'Science Fiction': 2870,\n",
       " 'Novella': 87,\n",
       " 'Utopian and dystopian fiction': 67,\n",
       " 'Existentialism': 8,\n",
       " 'Absurdist fiction': 29,\n",
       " 'Novel': 2463,\n",
       " 'Hard science fiction': 25,\n",
       " 'Fantasy': 2413,\n",
       " 'War novel': 87,\n",
       " 'Bildungsroman': 42,\n",
       " 'Religious text': 4,\n",
       " 'Picaresque novel': 18,\n",
       " 'Gothic fiction': 112,\n",
       " 'Horror': 511,\n",
       " 'Invasion literature': 4,\n",
       " 'Mystery': 1396,\n",
       " 'Epistolary novel': 30,\n",
       " 'Parody': 15,\n",
       " 'Psychological novel': 26,\n",
       " 'Farce': 4,\n",
       " 'Philosophy': 47,\n",
       " 'Science': 22,\n",
       " 'Dystopia': 127,\n",
       " 'Detective fiction': 341,\n",
       " 'Suspense': 765,\n",
       " 'Historical fiction': 388,\n",
       " 'Adventure novel': 330,\n",
       " 'Humour': 62,\n",
       " 'Historical novel': 654,\n",
       " 'Sea story': 4,\n",
       " 'Cyberpunk': 16,\n",
       " 'Business': 16,\n",
       " 'Non-fiction': 230,\n",
       " 'Economics': 13,\n",
       " 'Anthropology': 4,\n",
       " 'Sociology': 31,\n",
       " 'Romance novel': 435,\n",
       " 'Poetry': 28,\n",
       " 'Chivalric romance': 15,\n",
       " 'High fantasy': 66,\n",
       " 'Time travel': 20,\n",
       " 'Scientific romance': 14,\n",
       " 'Crime Fiction': 753,\n",
       " 'Juvenile fantasy': 2,\n",
       " 'Religion': 16,\n",
       " 'Inspirational': 10,\n",
       " 'Short story': 78,\n",
       " 'Techno-thriller': 59,\n",
       " 'Thriller': 568,\n",
       " 'Young adult literature': 825,\n",
       " 'Drama': 29,\n",
       " 'Play': 9,\n",
       " 'Albino bias': 2,\n",
       " 'Computer Science': 1,\n",
       " 'Reference': 38,\n",
       " 'Supernatural': 4,\n",
       " 'Comedy': 145,\n",
       " 'Literary fiction': 36,\n",
       " 'History': 73,\n",
       " 'Self-help': 7,\n",
       " 'Spirituality': 5,\n",
       " 'Vampire fiction': 15,\n",
       " 'Zombies in popular culture': 5,\n",
       " 'Apocalyptic and post-apocalyptic fiction': 56,\n",
       " 'Catastrophic literature': 3,\n",
       " 'Alternate history': 226,\n",
       " 'Erotica': 16,\n",
       " 'Spy fiction': 190,\n",
       " 'Autobiographical novel': 77,\n",
       " 'Autobiography': 124,\n",
       " 'Memoir': 67,\n",
       " 'Postcyberpunk': 2,\n",
       " 'Social criticism': 1,\n",
       " 'Anti-war': 1,\n",
       " 'Black comedy': 38,\n",
       " 'Comedy of manners': 2,\n",
       " 'Hardboiled': 24,\n",
       " 'Western': 41,\n",
       " 'Comic science fiction': 7,\n",
       " 'Non-fiction novel': 3,\n",
       " 'Lost World': 16,\n",
       " 'Künstlerroman': 12,\n",
       " 'Transhumanism': 6,\n",
       " 'Biography': 102,\n",
       " 'Western fiction': 23,\n",
       " 'Comic novel': 104,\n",
       " 'Conspiracy fiction': 4,\n",
       " 'Planetary romance': 5,\n",
       " 'Military science fiction': 33,\n",
       " 'Ghost story': 4,\n",
       " 'Morality play': 2,\n",
       " 'Fairy tale': 9,\n",
       " 'Mathematics': 12,\n",
       " 'Graphic novel': 17,\n",
       " 'Ergodic literature': 3,\n",
       " 'Politics': 13,\n",
       " 'Treatise': 5,\n",
       " 'Adventure': 23,\n",
       " 'Comic fantasy': 5,\n",
       " 'Travel': 21,\n",
       " 'Magic realism': 25,\n",
       " 'Locked room mystery': 5,\n",
       " 'Social novel': 4,\n",
       " 'Feminist science fiction': 7,\n",
       " 'Human extinction': 1,\n",
       " 'Prose poetry': 2,\n",
       " 'First-person narrative': 1,\n",
       " 'Historical whodunnit': 7,\n",
       " 'Post-holocaust': 6,\n",
       " 'Social sciences': 3,\n",
       " 'Soft science fiction': 5,\n",
       " 'Parallel novel': 17,\n",
       " 'Personal journal': 7,\n",
       " 'Cozy': 11,\n",
       " 'Psychology': 21,\n",
       " 'Steampunk': 47,\n",
       " 'New Weird': 1,\n",
       " 'Postmodernism': 7,\n",
       " 'Gay novel': 7,\n",
       " 'Industrial novel': 6,\n",
       " 'Campus novel': 5,\n",
       " 'Picture book': 49,\n",
       " 'Music': 10,\n",
       " 'Comic book': 10,\n",
       " 'Nature': 10,\n",
       " 'Tragicomedy': 9,\n",
       " 'Biographical novel': 12,\n",
       " 'Social commentary': 3,\n",
       " 'Whodunit': 30,\n",
       " 'Literary criticism': 2,\n",
       " 'Political philosophy': 3,\n",
       " 'Role-playing game': 48,\n",
       " 'Comics': 6,\n",
       " 'Cabal': 1,\n",
       " 'Conspiracy': 1,\n",
       " 'School story': 1,\n",
       " 'English public-school stories': 1,\n",
       " \"Boys' school stories\": 1,\n",
       " 'Naval adventure': 2,\n",
       " 'Experimental literature': 1,\n",
       " 'Popular science': 8,\n",
       " 'Transgender and transsexual fiction': 2,\n",
       " 'Social science fiction': 5,\n",
       " 'Wuxia': 18,\n",
       " 'Travel literature': 11,\n",
       " 'Sword and planet': 2,\n",
       " 'Gay Themed': 1,\n",
       " 'LGBT literature': 2,\n",
       " 'Gamebook': 39,\n",
       " 'True crime': 22,\n",
       " 'Essay': 5,\n",
       " 'Dark fantasy': 23,\n",
       " 'Fantasy of manners': 6,\n",
       " 'Foreign legion': 2,\n",
       " 'Serial': 3,\n",
       " 'Science fantasy': 10,\n",
       " 'Space opera': 12,\n",
       " 'Utopian fiction': 1,\n",
       " 'Zombie': 4,\n",
       " 'Chick lit': 11,\n",
       " 'Historical romance': 6,\n",
       " 'Anthology': 6,\n",
       " 'Robinsonade': 2,\n",
       " 'Future history': 1,\n",
       " 'Urban fantasy': 37,\n",
       " 'Romantic comedy': 2,\n",
       " 'Anti-nuclear': 1,\n",
       " 'Metaphysics': 2,\n",
       " 'Coming of age': 4,\n",
       " 'Regency romance': 10,\n",
       " 'Literary realism': 8,\n",
       " 'Literary theory': 1,\n",
       " 'Sports': 7,\n",
       " 'Elizabethan romance': 1,\n",
       " 'Education': 2,\n",
       " 'Dying Earth subgenre': 3,\n",
       " 'Pornography': 1,\n",
       " 'Polemic': 3,\n",
       " 'Georgian romance': 1,\n",
       " 'American Gothic Fiction': 1,\n",
       " 'Cookbook': 2,\n",
       " 'Field guide': 1,\n",
       " 'Fable': 1,\n",
       " 'Bangsian fantasy': 1,\n",
       " 'Space western': 1,\n",
       " 'Historical fantasy': 18,\n",
       " 'Edisonade': 4,\n",
       " 'Military history': 2,\n",
       " 'Sword and sorcery': 31,\n",
       " 'Fantastique': 1,\n",
       " 'Youth': 1,\n",
       " 'Photography': 3,\n",
       " 'Modernism': 2,\n",
       " 'Medieval romance': 1,\n",
       " 'Paranormal romance': 46,\n",
       " 'Bit Lit': 1,\n",
       " 'Contemporary fantasy': 6,\n",
       " 'Urban fiction': 5,\n",
       " 'Collage': 1,\n",
       " 'Subterranean fiction': 4,\n",
       " 'Superhero fiction': 1,\n",
       " 'Heroic fantasy': 4,\n",
       " 'Marketing': 1,\n",
       " 'Colonial United States romance': 1,\n",
       " 'Creative nonfiction': 3,\n",
       " 'Low fantasy': 1,\n",
       " 'Light novel': 2,\n",
       " 'Police procedural': 1,\n",
       " 'Fairytale fantasy': 2,\n",
       " 'Indian chick lit': 1,\n",
       " 'Autobiographical comics': 1,\n",
       " 'Fictional crossover': 1,\n",
       " 'Encyclopedia': 4,\n",
       " 'Mashup': 5,\n",
       " 'Biopunk': 2,\n",
       " 'Popular culture': 1,\n",
       " 'Neuroscience': 1,\n",
       " 'New York Times Best Seller list': 1,\n",
       " 'Epic Science Fiction and Fantasy': 1,\n",
       " 'Alien invasion': 1,\n",
       " 'Prose': 4,\n",
       " 'Pastiche': 1}"
      ]
     },
     "execution_count": 13,
     "metadata": {},
     "output_type": "execute_result"
    }
   ],
   "source": [
    "dict = {}\n",
    "for index, row in books.iterrows():\n",
    "    for x in row['genre_new']:\n",
    "        if x in dict:\n",
    "            dict[x] = dict[x] +1\n",
    "        else:\n",
    "            dict[x] = 1\n",
    "\n",
    "dict"
   ]
  },
  {
   "cell_type": "code",
   "execution_count": 14,
   "metadata": {},
   "outputs": [],
   "source": [
    "def getGenresInMoreThan100Books(row):\n",
    "    genres = []\n",
    "    for x in row:\n",
    "        if dict[x] > 100:\n",
    "            genres.append(x)\n",
    "    return genres"
   ]
  },
  {
   "cell_type": "code",
   "execution_count": 15,
   "metadata": {},
   "outputs": [
    {
     "data": {
      "text/html": [
       "<div>\n",
       "<style scoped>\n",
       "    .dataframe tbody tr th:only-of-type {\n",
       "        vertical-align: middle;\n",
       "    }\n",
       "\n",
       "    .dataframe tbody tr th {\n",
       "        vertical-align: top;\n",
       "    }\n",
       "\n",
       "    .dataframe thead th {\n",
       "        text-align: right;\n",
       "    }\n",
       "</style>\n",
       "<table border=\"1\" class=\"dataframe\">\n",
       "  <thead>\n",
       "    <tr style=\"text-align: right;\">\n",
       "      <th></th>\n",
       "      <th>genre_new</th>\n",
       "    </tr>\n",
       "  </thead>\n",
       "  <tbody>\n",
       "    <tr>\n",
       "      <th>0</th>\n",
       "      <td>[Satire, Children's literature, Speculative fi...</td>\n",
       "    </tr>\n",
       "    <tr>\n",
       "      <th>1</th>\n",
       "      <td>[Science Fiction, Speculative fiction, Satire,...</td>\n",
       "    </tr>\n",
       "    <tr>\n",
       "      <th>2</th>\n",
       "      <td>[Fiction, Novel]</td>\n",
       "    </tr>\n",
       "    <tr>\n",
       "      <th>3</th>\n",
       "      <td>[Science Fiction, Speculative fiction, Fantasy...</td>\n",
       "    </tr>\n",
       "    <tr>\n",
       "      <th>4</th>\n",
       "      <td>[]</td>\n",
       "    </tr>\n",
       "    <tr>\n",
       "      <th>5</th>\n",
       "      <td>[Children's literature, Fantasy, Speculative f...</td>\n",
       "    </tr>\n",
       "    <tr>\n",
       "      <th>6</th>\n",
       "      <td>[Science Fiction, Speculative fiction]</td>\n",
       "    </tr>\n",
       "    <tr>\n",
       "      <th>7</th>\n",
       "      <td>[Science Fiction, Speculative fiction]</td>\n",
       "    </tr>\n",
       "    <tr>\n",
       "      <th>8</th>\n",
       "      <td>[]</td>\n",
       "    </tr>\n",
       "    <tr>\n",
       "      <th>9</th>\n",
       "      <td>[Speculative fiction, Fiction, Novel]</td>\n",
       "    </tr>\n",
       "  </tbody>\n",
       "</table>\n",
       "</div>"
      ],
      "text/plain": [
       "                                           genre_new\n",
       "0  [Satire, Children's literature, Speculative fi...\n",
       "1  [Science Fiction, Speculative fiction, Satire,...\n",
       "2                                   [Fiction, Novel]\n",
       "3  [Science Fiction, Speculative fiction, Fantasy...\n",
       "4                                                 []\n",
       "5  [Children's literature, Fantasy, Speculative f...\n",
       "6             [Science Fiction, Speculative fiction]\n",
       "7             [Science Fiction, Speculative fiction]\n",
       "8                                                 []\n",
       "9              [Speculative fiction, Fiction, Novel]"
      ]
     },
     "execution_count": 15,
     "metadata": {},
     "output_type": "execute_result"
    }
   ],
   "source": [
    "books['genre_new'] = books['genre_new'].apply(lambda x: getGenresInMoreThan100Books(x))\n",
    "books[['genre_new']].head(10)"
   ]
  },
  {
   "cell_type": "code",
   "execution_count": 16,
   "metadata": {},
   "outputs": [
    {
     "data": {
      "text/plain": [
       "(12841, 6)"
      ]
     },
     "execution_count": 16,
     "metadata": {},
     "output_type": "execute_result"
    }
   ],
   "source": [
    "books.shape"
   ]
  },
  {
   "cell_type": "code",
   "execution_count": 17,
   "metadata": {},
   "outputs": [
    {
     "data": {
      "text/plain": [
       "(12243, 6)"
      ]
     },
     "execution_count": 17,
     "metadata": {},
     "output_type": "execute_result"
    }
   ],
   "source": [
    "books = books[books['genre_new'].map(lambda d: len(d)) > 0]\n",
    "books.shape"
   ]
  },
  {
   "cell_type": "markdown",
   "metadata": {},
   "source": [
    "### Label Encoding"
   ]
  },
  {
   "cell_type": "code",
   "execution_count": 18,
   "metadata": {},
   "outputs": [
    {
     "data": {
      "text/html": [
       "<div>\n",
       "<style scoped>\n",
       "    .dataframe tbody tr th:only-of-type {\n",
       "        vertical-align: middle;\n",
       "    }\n",
       "\n",
       "    .dataframe tbody tr th {\n",
       "        vertical-align: top;\n",
       "    }\n",
       "\n",
       "    .dataframe thead th {\n",
       "        text-align: right;\n",
       "    }\n",
       "</style>\n",
       "<table border=\"1\" class=\"dataframe\">\n",
       "  <thead>\n",
       "    <tr style=\"text-align: right;\">\n",
       "      <th></th>\n",
       "      <th>book_id</th>\n",
       "      <th>book_name</th>\n",
       "      <th>genre</th>\n",
       "      <th>summary</th>\n",
       "      <th>genre_new</th>\n",
       "      <th>clean_summary</th>\n",
       "    </tr>\n",
       "  </thead>\n",
       "  <tbody>\n",
       "    <tr>\n",
       "      <th>0</th>\n",
       "      <td>620</td>\n",
       "      <td>Animal Farm</td>\n",
       "      <td>{\"/m/016lj8\": \"Roman \\u00e0 clef\", \"/m/06nbt\":...</td>\n",
       "      <td>Old Major, the old boar on the Manor Farm, ca...</td>\n",
       "      <td>[Satire, Children's literature, Speculative fi...</td>\n",
       "      <td>old major old boar manor farm calls animals fa...</td>\n",
       "    </tr>\n",
       "    <tr>\n",
       "      <th>1</th>\n",
       "      <td>843</td>\n",
       "      <td>A Clockwork Orange</td>\n",
       "      <td>{\"/m/06n90\": \"Science Fiction\", \"/m/0l67h\": \"N...</td>\n",
       "      <td>Alex, a teenager living in near-future Englan...</td>\n",
       "      <td>[Science Fiction, Speculative fiction, Satire,...</td>\n",
       "      <td>alex teenager living near future england leads...</td>\n",
       "    </tr>\n",
       "    <tr>\n",
       "      <th>2</th>\n",
       "      <td>986</td>\n",
       "      <td>The Plague</td>\n",
       "      <td>{\"/m/02m4t\": \"Existentialism\", \"/m/02xlf\": \"Fi...</td>\n",
       "      <td>The text of The Plague is divided into five p...</td>\n",
       "      <td>[Fiction, Novel]</td>\n",
       "      <td>text plague divided five parts town oran thous...</td>\n",
       "    </tr>\n",
       "    <tr>\n",
       "      <th>3</th>\n",
       "      <td>2080</td>\n",
       "      <td>A Fire Upon the Deep</td>\n",
       "      <td>{\"/m/03lrw\": \"Hard science fiction\", \"/m/06n90...</td>\n",
       "      <td>The novel posits that space around the Milky ...</td>\n",
       "      <td>[Science Fiction, Speculative fiction, Fantasy...</td>\n",
       "      <td>novel posits space around milky way divided co...</td>\n",
       "    </tr>\n",
       "    <tr>\n",
       "      <th>5</th>\n",
       "      <td>2890</td>\n",
       "      <td>A Wizard of Earthsea</td>\n",
       "      <td>{\"/m/0dwly\": \"Children's literature\", \"/m/01hm...</td>\n",
       "      <td>Ged is a young boy on Gont, one of the larger...</td>\n",
       "      <td>[Children's literature, Fantasy, Speculative f...</td>\n",
       "      <td>ged young boy gont one larger islands north ar...</td>\n",
       "    </tr>\n",
       "    <tr>\n",
       "      <th>...</th>\n",
       "      <td>...</td>\n",
       "      <td>...</td>\n",
       "      <td>...</td>\n",
       "      <td>...</td>\n",
       "      <td>...</td>\n",
       "      <td>...</td>\n",
       "    </tr>\n",
       "    <tr>\n",
       "      <th>12836</th>\n",
       "      <td>36372465</td>\n",
       "      <td>The Third Lynx</td>\n",
       "      <td>{\"/m/06n90\": \"Science Fiction\"}</td>\n",
       "      <td>The story starts with former government agent...</td>\n",
       "      <td>[Science Fiction]</td>\n",
       "      <td>story starts former government agent frank com...</td>\n",
       "    </tr>\n",
       "    <tr>\n",
       "      <th>12837</th>\n",
       "      <td>36534061</td>\n",
       "      <td>Remote Control</td>\n",
       "      <td>{\"/m/01jfsb\": \"Thriller\", \"/m/02xlf\": \"Fiction...</td>\n",
       "      <td>The series follows the character of Nick Ston...</td>\n",
       "      <td>[Thriller, Fiction, Suspense]</td>\n",
       "      <td>series follows character nick stone ex militar...</td>\n",
       "    </tr>\n",
       "    <tr>\n",
       "      <th>12838</th>\n",
       "      <td>37054020</td>\n",
       "      <td>Transfer of Power</td>\n",
       "      <td>{\"/m/01jfsb\": \"Thriller\", \"/m/02xlf\": \"Fiction\"}</td>\n",
       "      <td>The reader first meets Rapp while he is doing...</td>\n",
       "      <td>[Thriller, Fiction]</td>\n",
       "      <td>reader first meets rapp covert operation iran ...</td>\n",
       "    </tr>\n",
       "    <tr>\n",
       "      <th>12839</th>\n",
       "      <td>37122323</td>\n",
       "      <td>Decoded</td>\n",
       "      <td>{\"/m/0xdf\": \"Autobiography\"}</td>\n",
       "      <td>The book follows very rough chronological ord...</td>\n",
       "      <td>[Autobiography]</td>\n",
       "      <td>book follows rough chronological order switchi...</td>\n",
       "    </tr>\n",
       "    <tr>\n",
       "      <th>12840</th>\n",
       "      <td>37159503</td>\n",
       "      <td>Poor Folk</td>\n",
       "      <td>{\"/m/02ql9\": \"Epistolary novel\", \"/m/014dfn\": ...</td>\n",
       "      <td>Makar Devushkin and Varvara Dobroselova are s...</td>\n",
       "      <td>[Speculative fiction]</td>\n",
       "      <td>makar devushkin varvara dobroselova second cou...</td>\n",
       "    </tr>\n",
       "  </tbody>\n",
       "</table>\n",
       "<p>12243 rows × 6 columns</p>\n",
       "</div>"
      ],
      "text/plain": [
       "        book_id             book_name  \\\n",
       "0           620           Animal Farm   \n",
       "1           843    A Clockwork Orange   \n",
       "2           986            The Plague   \n",
       "3          2080  A Fire Upon the Deep   \n",
       "5          2890  A Wizard of Earthsea   \n",
       "...         ...                   ...   \n",
       "12836  36372465        The Third Lynx   \n",
       "12837  36534061        Remote Control   \n",
       "12838  37054020     Transfer of Power   \n",
       "12839  37122323               Decoded   \n",
       "12840  37159503             Poor Folk   \n",
       "\n",
       "                                                   genre  \\\n",
       "0      {\"/m/016lj8\": \"Roman \\u00e0 clef\", \"/m/06nbt\":...   \n",
       "1      {\"/m/06n90\": \"Science Fiction\", \"/m/0l67h\": \"N...   \n",
       "2      {\"/m/02m4t\": \"Existentialism\", \"/m/02xlf\": \"Fi...   \n",
       "3      {\"/m/03lrw\": \"Hard science fiction\", \"/m/06n90...   \n",
       "5      {\"/m/0dwly\": \"Children's literature\", \"/m/01hm...   \n",
       "...                                                  ...   \n",
       "12836                    {\"/m/06n90\": \"Science Fiction\"}   \n",
       "12837  {\"/m/01jfsb\": \"Thriller\", \"/m/02xlf\": \"Fiction...   \n",
       "12838   {\"/m/01jfsb\": \"Thriller\", \"/m/02xlf\": \"Fiction\"}   \n",
       "12839                       {\"/m/0xdf\": \"Autobiography\"}   \n",
       "12840  {\"/m/02ql9\": \"Epistolary novel\", \"/m/014dfn\": ...   \n",
       "\n",
       "                                                 summary  \\\n",
       "0       Old Major, the old boar on the Manor Farm, ca...   \n",
       "1       Alex, a teenager living in near-future Englan...   \n",
       "2       The text of The Plague is divided into five p...   \n",
       "3       The novel posits that space around the Milky ...   \n",
       "5       Ged is a young boy on Gont, one of the larger...   \n",
       "...                                                  ...   \n",
       "12836   The story starts with former government agent...   \n",
       "12837   The series follows the character of Nick Ston...   \n",
       "12838   The reader first meets Rapp while he is doing...   \n",
       "12839   The book follows very rough chronological ord...   \n",
       "12840   Makar Devushkin and Varvara Dobroselova are s...   \n",
       "\n",
       "                                               genre_new  \\\n",
       "0      [Satire, Children's literature, Speculative fi...   \n",
       "1      [Science Fiction, Speculative fiction, Satire,...   \n",
       "2                                       [Fiction, Novel]   \n",
       "3      [Science Fiction, Speculative fiction, Fantasy...   \n",
       "5      [Children's literature, Fantasy, Speculative f...   \n",
       "...                                                  ...   \n",
       "12836                                  [Science Fiction]   \n",
       "12837                      [Thriller, Fiction, Suspense]   \n",
       "12838                                [Thriller, Fiction]   \n",
       "12839                                    [Autobiography]   \n",
       "12840                              [Speculative fiction]   \n",
       "\n",
       "                                           clean_summary  \n",
       "0      old major old boar manor farm calls animals fa...  \n",
       "1      alex teenager living near future england leads...  \n",
       "2      text plague divided five parts town oran thous...  \n",
       "3      novel posits space around milky way divided co...  \n",
       "5      ged young boy gont one larger islands north ar...  \n",
       "...                                                  ...  \n",
       "12836  story starts former government agent frank com...  \n",
       "12837  series follows character nick stone ex militar...  \n",
       "12838  reader first meets rapp covert operation iran ...  \n",
       "12839  book follows rough chronological order switchi...  \n",
       "12840  makar devushkin varvara dobroselova second cou...  \n",
       "\n",
       "[12243 rows x 6 columns]"
      ]
     },
     "execution_count": 18,
     "metadata": {},
     "output_type": "execute_result"
    }
   ],
   "source": [
    "books"
   ]
  },
  {
   "cell_type": "markdown",
   "metadata": {},
   "source": [
    "### Split data"
   ]
  },
  {
   "cell_type": "code",
   "execution_count": 19,
   "metadata": {},
   "outputs": [],
   "source": [
    "y = np.asarray(books['genre_new'])\n",
    "X = books[\"clean_summary\"]\n"
   ]
  },
  {
   "cell_type": "code",
   "execution_count": 20,
   "metadata": {},
   "outputs": [],
   "source": [
    "with open('../Pickles/X.pickle', 'wb') as output:\n",
    "    pickle.dump(X, output)\n",
    "    \n",
    "with open('../Pickles/y.pickle', 'wb') as output:\n",
    "    pickle.dump(y, output)\n",
    "    "
   ]
  },
  {
   "cell_type": "code",
   "execution_count": 21,
   "metadata": {},
   "outputs": [],
   "source": [
    "multilabel_binarizer = MultiLabelBinarizer()\n",
    "multilabel_binarizer.fit(y)\n",
    "\n",
    "# transform target variable\n",
    "y = multilabel_binarizer.transform(y)"
   ]
  },
  {
   "cell_type": "code",
   "execution_count": 22,
   "metadata": {},
   "outputs": [],
   "source": [
    "with open('../Pickles/multilabel_binarizer.pickle', 'wb') as output:\n",
    "    pickle.dump(multilabel_binarizer, output)  "
   ]
  },
  {
   "cell_type": "code",
   "execution_count": 23,
   "metadata": {},
   "outputs": [
    {
     "data": {
      "text/plain": [
       "array([0, 0, 0, 0, 1, 0, 0, 0, 0, 0, 0, 1, 0, 0, 0, 0, 0, 0, 0, 0, 1, 0,\n",
       "       1, 0, 0, 0, 0])"
      ]
     },
     "execution_count": 23,
     "metadata": {},
     "output_type": "execute_result"
    }
   ],
   "source": [
    "y[0]"
   ]
  },
  {
   "cell_type": "code",
   "execution_count": 24,
   "metadata": {},
   "outputs": [],
   "source": [
    "# splitting the data to training and testing data set\n",
    "X_train, X_test, y_train, y_test = train_test_split(X, y, test_size=0.30, random_state=42)"
   ]
  },
  {
   "cell_type": "code",
   "execution_count": 25,
   "metadata": {},
   "outputs": [
    {
     "name": "stdout",
     "output_type": "stream",
     "text": [
      "(8570,)\n",
      "(3673,)\n",
      "(8570, 27)\n",
      "(3673, 27)\n"
     ]
    }
   ],
   "source": [
    "print(X_train.shape)\n",
    "print(X_test.shape)\n",
    "print(y_train.shape)\n",
    "print(y_test.shape)"
   ]
  },
  {
   "cell_type": "code",
   "execution_count": 26,
   "metadata": {},
   "outputs": [
    {
     "name": "stdout",
     "output_type": "stream",
     "text": [
      "(8570, 1000)\n",
      "(3673, 1000)\n"
     ]
    }
   ],
   "source": [
    "ngram_range = (1,2)\n",
    "min_df = 10\n",
    "max_df = 1.\n",
    "max_features = 1000\n",
    "\n",
    "tfidf = TfidfVectorizer(encoding='utf-8',\n",
    "                        ngram_range=ngram_range,\n",
    "                        stop_words=None,\n",
    "                        lowercase=False,\n",
    "                        max_df=max_df,\n",
    "                        min_df=min_df,\n",
    "                        max_features=max_features,\n",
    "                        norm='l2',\n",
    "                        sublinear_tf=True)\n",
    "                        \n",
    "features_train = tfidf.fit_transform(X_train).toarray()\n",
    "labels_train = y_train\n",
    "print(features_train.shape)\n",
    "\n",
    "features_test = tfidf.transform(X_test).toarray()\n",
    "labels_test = y_test\n",
    "print(features_test.shape)"
   ]
  },
  {
   "cell_type": "code",
   "execution_count": 27,
   "metadata": {},
   "outputs": [],
   "source": [
    "# FEATURES\n",
    "with open('../Pickles/features_train.pickle', 'wb') as output:\n",
    "    pickle.dump(features_train, output)\n",
    "\n",
    "with open('../Pickles/features_test.pickle', 'wb') as output:\n",
    "    pickle.dump(features_test, output)\n",
    "\n",
    "\n",
    "# LABELS\n",
    "with open('../Pickles/labels_train.pickle', 'wb') as output:\n",
    "    pickle.dump(labels_train, output)\n",
    "\n",
    "with open('../Pickles/labels_test.pickle', 'wb') as output:\n",
    "    pickle.dump(labels_test, output)\n"
   ]
  },
  {
   "cell_type": "markdown",
   "metadata": {},
   "source": [
    "### ELMO :)"
   ]
  },
  {
   "cell_type": "code",
   "execution_count": 57,
   "metadata": {},
   "outputs": [
    {
     "data": {
      "text/plain": [
       "{'lstm_outputs2': <tf.Tensor 'StatefulPartitionedCall_4:3' shape=(1, 2, 1024) dtype=float32>,\n",
       " 'lstm_outputs1': <tf.Tensor 'StatefulPartitionedCall_4:2' shape=(1, 2, 1024) dtype=float32>,\n",
       " 'elmo': <tf.Tensor 'StatefulPartitionedCall_4:1' shape=(1, 2, 1024) dtype=float32>,\n",
       " 'default': <tf.Tensor 'StatefulPartitionedCall_4:0' shape=(1, 1024) dtype=float32>,\n",
       " 'sequence_len': <tf.Tensor 'StatefulPartitionedCall_4:4' shape=(1,) dtype=int32>,\n",
       " 'word_emb': <tf.Tensor 'StatefulPartitionedCall_4:5' shape=(1, 2, 512) dtype=float32>}"
      ]
     },
     "execution_count": 57,
     "metadata": {},
     "output_type": "execute_result"
    }
   ],
   "source": [
    "import tensorflow as tf\n",
    "import tensorflow_hub as hub    \n",
    "\n",
    "\n",
    "elmo = hub.load(\"https://tfhub.dev/google/elmo/3\")\n",
    "elmo.signatures[\"default\"](tf.constant([\"my sentence\"]))"
   ]
  },
  {
   "cell_type": "code",
   "execution_count": 67,
   "metadata": {},
   "outputs": [],
   "source": [
    "def elmo_vectors(x):\n",
    "  #embeddings = elmo.signatures[\"default\"](x)\n",
    "  embeddings = elmo(x, training=is_training)\n",
    "  with tf.Session() as sess:\n",
    "    sess.run(tf.global_variables_initializer())\n",
    "    sess.run(tf.tables_initializer())\n",
    "    # return average of ELMo features\n",
    "    return sess.run(tf.reduce_mean(embeddings,1))"
   ]
  },
  {
   "cell_type": "code",
   "execution_count": 68,
   "metadata": {},
   "outputs": [],
   "source": [
    "list_train = [X_train[i:i+100] for i in range(0,X_train.shape[0],100)]\n",
    "list_test = [X_test[i:i+100] for i in range(0,X_test.shape[0],100)]"
   ]
  },
  {
   "cell_type": "code",
   "execution_count": 66,
   "metadata": {},
   "outputs": [
    {
     "ename": "TypeError",
     "evalue": "pruned(text): expected argument #0(zero-based) to be a Tensor; got Series (5514     doctor benny europe aftermath world war childr...\n1086     book opens november hannay friend sandy conval...\n2367     story told theseus looking back life vantage p...\n5467     sir geoffrey peveril major bridgenorth boys to...\n4869     pete garden protagonist one several residents ...\n                               ...                        \n12522    wither describes future genetic engineering cu...\n5423     garden shadows starts tall plain olivia rescue...\n5623     back story presented novel describes first con...\n901      novel begins text letter dated july crimean wa...\n7555     serge therapy coping fact turned first goes re...\nName: clean_summary, Length: 8570, dtype: object).",
     "output_type": "error",
     "traceback": [
      "\u001b[0;31m---------------------------------------------------------------------------\u001b[0m",
      "\u001b[0;31mTypeError\u001b[0m                                 Traceback (most recent call last)",
      "Input \u001b[0;32mIn [66]\u001b[0m, in \u001b[0;36m<cell line: 1>\u001b[0;34m()\u001b[0m\n\u001b[0;32m----> 1\u001b[0m elmo_train \u001b[38;5;241m=\u001b[39m [elmo_vectors(X_train) \u001b[38;5;28;01mfor\u001b[39;00m x \u001b[38;5;129;01min\u001b[39;00m list_train]\n\u001b[1;32m      2\u001b[0m elmo_test \u001b[38;5;241m=\u001b[39m [elmo_vectors(X_test) \u001b[38;5;28;01mfor\u001b[39;00m x \u001b[38;5;129;01min\u001b[39;00m list_test]\n\u001b[1;32m      5\u001b[0m elmo_train_new \u001b[38;5;241m=\u001b[39m np\u001b[38;5;241m.\u001b[39mconcatenate(elmo_train, axis \u001b[38;5;241m=\u001b[39m \u001b[38;5;241m0\u001b[39m)\n",
      "Input \u001b[0;32mIn [66]\u001b[0m, in \u001b[0;36m<listcomp>\u001b[0;34m(.0)\u001b[0m\n\u001b[0;32m----> 1\u001b[0m elmo_train \u001b[38;5;241m=\u001b[39m [\u001b[43melmo_vectors\u001b[49m\u001b[43m(\u001b[49m\u001b[43mX_train\u001b[49m\u001b[43m)\u001b[49m \u001b[38;5;28;01mfor\u001b[39;00m x \u001b[38;5;129;01min\u001b[39;00m list_train]\n\u001b[1;32m      2\u001b[0m elmo_test \u001b[38;5;241m=\u001b[39m [elmo_vectors(X_test) \u001b[38;5;28;01mfor\u001b[39;00m x \u001b[38;5;129;01min\u001b[39;00m list_test]\n\u001b[1;32m      5\u001b[0m elmo_train_new \u001b[38;5;241m=\u001b[39m np\u001b[38;5;241m.\u001b[39mconcatenate(elmo_train, axis \u001b[38;5;241m=\u001b[39m \u001b[38;5;241m0\u001b[39m)\n",
      "Input \u001b[0;32mIn [64]\u001b[0m, in \u001b[0;36melmo_vectors\u001b[0;34m(x)\u001b[0m\n\u001b[1;32m      1\u001b[0m \u001b[38;5;28;01mdef\u001b[39;00m \u001b[38;5;21melmo_vectors\u001b[39m(x):\n\u001b[0;32m----> 2\u001b[0m   embeddings \u001b[38;5;241m=\u001b[39m \u001b[43melmo\u001b[49m\u001b[38;5;241;43m.\u001b[39;49m\u001b[43msignatures\u001b[49m\u001b[43m[\u001b[49m\u001b[38;5;124;43m\"\u001b[39;49m\u001b[38;5;124;43mdefault\u001b[39;49m\u001b[38;5;124;43m\"\u001b[39;49m\u001b[43m]\u001b[49m\u001b[43m(\u001b[49m\u001b[43mx\u001b[49m\u001b[43m)\u001b[49m\n\u001b[1;32m      4\u001b[0m   \u001b[38;5;28;01mwith\u001b[39;00m tf\u001b[38;5;241m.\u001b[39mSession() \u001b[38;5;28;01mas\u001b[39;00m sess:\n\u001b[1;32m      5\u001b[0m     sess\u001b[38;5;241m.\u001b[39mrun(tf\u001b[38;5;241m.\u001b[39mglobal_variables_initializer())\n",
      "File \u001b[0;32m~/Desktop/BookClassifaction/venv/lib/python3.9/site-packages/tensorflow/python/eager/function.py:1602\u001b[0m, in \u001b[0;36mConcreteFunction.__call__\u001b[0;34m(self, *args, **kwargs)\u001b[0m\n\u001b[1;32m   1552\u001b[0m \u001b[38;5;28;01mdef\u001b[39;00m \u001b[38;5;21m__call__\u001b[39m(\u001b[38;5;28mself\u001b[39m, \u001b[38;5;241m*\u001b[39margs, \u001b[38;5;241m*\u001b[39m\u001b[38;5;241m*\u001b[39mkwargs):\n\u001b[1;32m   1553\u001b[0m   \u001b[38;5;124;03m\"\"\"Executes the wrapped function.\u001b[39;00m\n\u001b[1;32m   1554\u001b[0m \n\u001b[1;32m   1555\u001b[0m \u001b[38;5;124;03m  ConcreteFunctions have two signatures:\u001b[39;00m\n\u001b[0;32m   (...)\u001b[0m\n\u001b[1;32m   1600\u001b[0m \u001b[38;5;124;03m    TypeError: If the arguments do not match the function's signature.\u001b[39;00m\n\u001b[1;32m   1601\u001b[0m \u001b[38;5;124;03m  \"\"\"\u001b[39;00m\n\u001b[0;32m-> 1602\u001b[0m   \u001b[38;5;28;01mreturn\u001b[39;00m \u001b[38;5;28;43mself\u001b[39;49m\u001b[38;5;241;43m.\u001b[39;49m\u001b[43m_call_impl\u001b[49m\u001b[43m(\u001b[49m\u001b[43margs\u001b[49m\u001b[43m,\u001b[49m\u001b[43m \u001b[49m\u001b[43mkwargs\u001b[49m\u001b[43m)\u001b[49m\n",
      "File \u001b[0;32m~/Desktop/BookClassifaction/venv/lib/python3.9/site-packages/tensorflow/python/eager/wrap_function.py:243\u001b[0m, in \u001b[0;36mWrappedFunction._call_impl\u001b[0;34m(self, args, kwargs, cancellation_manager)\u001b[0m\n\u001b[1;32m    241\u001b[0m   \u001b[38;5;28;01mreturn\u001b[39;00m \u001b[38;5;28mself\u001b[39m\u001b[38;5;241m.\u001b[39m_call_flat(args, \u001b[38;5;28mself\u001b[39m\u001b[38;5;241m.\u001b[39mcaptured_inputs)\n\u001b[1;32m    242\u001b[0m \u001b[38;5;28;01melse\u001b[39;00m:\n\u001b[0;32m--> 243\u001b[0m   \u001b[38;5;28;01mreturn\u001b[39;00m \u001b[38;5;28;43msuper\u001b[39;49m\u001b[43m(\u001b[49m\u001b[43mWrappedFunction\u001b[49m\u001b[43m,\u001b[49m\u001b[43m \u001b[49m\u001b[38;5;28;43mself\u001b[39;49m\u001b[43m)\u001b[49m\u001b[38;5;241;43m.\u001b[39;49m\u001b[43m_call_impl\u001b[49m\u001b[43m(\u001b[49m\n\u001b[1;32m    244\u001b[0m \u001b[43m      \u001b[49m\u001b[43margs\u001b[49m\u001b[43m,\u001b[49m\u001b[43m \u001b[49m\u001b[43mkwargs\u001b[49m\u001b[43m,\u001b[49m\u001b[43m \u001b[49m\u001b[43mcancellation_manager\u001b[49m\u001b[43m)\u001b[49m\n",
      "File \u001b[0;32m~/Desktop/BookClassifaction/venv/lib/python3.9/site-packages/tensorflow/python/eager/function.py:1620\u001b[0m, in \u001b[0;36mConcreteFunction._call_impl\u001b[0;34m(self, args, kwargs, cancellation_manager)\u001b[0m\n\u001b[1;32m   1617\u001b[0m     \u001b[38;5;28;01mexcept\u001b[39;00m \u001b[38;5;167;01mTypeError\u001b[39;00m:\n\u001b[1;32m   1618\u001b[0m       \u001b[38;5;28;01mraise\u001b[39;00m structured_err\n\u001b[0;32m-> 1620\u001b[0m \u001b[38;5;28;01mreturn\u001b[39;00m \u001b[38;5;28;43mself\u001b[39;49m\u001b[38;5;241;43m.\u001b[39;49m\u001b[43m_call_with_flat_signature\u001b[49m\u001b[43m(\u001b[49m\u001b[43margs\u001b[49m\u001b[43m,\u001b[49m\u001b[43m \u001b[49m\u001b[43mkwargs\u001b[49m\u001b[43m,\u001b[49m\u001b[43m \u001b[49m\u001b[43mcancellation_manager\u001b[49m\u001b[43m)\u001b[49m\n",
      "File \u001b[0;32m~/Desktop/BookClassifaction/venv/lib/python3.9/site-packages/tensorflow/python/eager/function.py:1666\u001b[0m, in \u001b[0;36mConcreteFunction._call_with_flat_signature\u001b[0;34m(self, args, kwargs, cancellation_manager)\u001b[0m\n\u001b[1;32m   1663\u001b[0m \u001b[38;5;28;01mfor\u001b[39;00m i, arg \u001b[38;5;129;01min\u001b[39;00m \u001b[38;5;28menumerate\u001b[39m(args):\n\u001b[1;32m   1664\u001b[0m   \u001b[38;5;28;01mif\u001b[39;00m \u001b[38;5;129;01mnot\u001b[39;00m \u001b[38;5;28misinstance\u001b[39m(\n\u001b[1;32m   1665\u001b[0m       arg, (ops\u001b[38;5;241m.\u001b[39mTensor, resource_variable_ops\u001b[38;5;241m.\u001b[39mBaseResourceVariable)):\n\u001b[0;32m-> 1666\u001b[0m     \u001b[38;5;28;01mraise\u001b[39;00m \u001b[38;5;167;01mTypeError\u001b[39;00m(\u001b[38;5;124mf\u001b[39m\u001b[38;5;124m\"\u001b[39m\u001b[38;5;132;01m{\u001b[39;00m\u001b[38;5;28mself\u001b[39m\u001b[38;5;241m.\u001b[39m_flat_signature_summary()\u001b[38;5;132;01m}\u001b[39;00m\u001b[38;5;124m: expected argument \u001b[39m\u001b[38;5;124m\"\u001b[39m\n\u001b[1;32m   1667\u001b[0m                     \u001b[38;5;124mf\u001b[39m\u001b[38;5;124m\"\u001b[39m\u001b[38;5;124m#\u001b[39m\u001b[38;5;132;01m{\u001b[39;00mi\u001b[38;5;132;01m}\u001b[39;00m\u001b[38;5;124m(zero-based) to be a Tensor; \u001b[39m\u001b[38;5;124m\"\u001b[39m\n\u001b[1;32m   1668\u001b[0m                     \u001b[38;5;124mf\u001b[39m\u001b[38;5;124m\"\u001b[39m\u001b[38;5;124mgot \u001b[39m\u001b[38;5;132;01m{\u001b[39;00m\u001b[38;5;28mtype\u001b[39m(arg)\u001b[38;5;241m.\u001b[39m\u001b[38;5;18m__name__\u001b[39m\u001b[38;5;132;01m}\u001b[39;00m\u001b[38;5;124m (\u001b[39m\u001b[38;5;132;01m{\u001b[39;00marg\u001b[38;5;132;01m}\u001b[39;00m\u001b[38;5;124m).\u001b[39m\u001b[38;5;124m\"\u001b[39m)\n\u001b[1;32m   1669\u001b[0m \u001b[38;5;28;01mreturn\u001b[39;00m \u001b[38;5;28mself\u001b[39m\u001b[38;5;241m.\u001b[39m_call_flat(args, \u001b[38;5;28mself\u001b[39m\u001b[38;5;241m.\u001b[39mcaptured_inputs, cancellation_manager)\n",
      "\u001b[0;31mTypeError\u001b[0m: pruned(text): expected argument #0(zero-based) to be a Tensor; got Series (5514     doctor benny europe aftermath world war childr...\n1086     book opens november hannay friend sandy conval...\n2367     story told theseus looking back life vantage p...\n5467     sir geoffrey peveril major bridgenorth boys to...\n4869     pete garden protagonist one several residents ...\n                               ...                        \n12522    wither describes future genetic engineering cu...\n5423     garden shadows starts tall plain olivia rescue...\n5623     back story presented novel describes first con...\n901      novel begins text letter dated july crimean wa...\n7555     serge therapy coping fact turned first goes re...\nName: clean_summary, Length: 8570, dtype: object)."
     ]
    }
   ],
   "source": [
    "elmo_train = [elmo_vectors(X_train) for x in list_train]\n",
    "elmo_test = [elmo_vectors(X_test) for x in list_test]\n",
    "\n",
    "\n",
    "elmo_train_new = np.concatenate(elmo_train, axis = 0)\n",
    "elmo_test_new = np.concatenate(elmo_test, axis = 0)"
   ]
  },
  {
   "cell_type": "code",
   "execution_count": null,
   "metadata": {},
   "outputs": [],
   "source": []
  }
 ],
 "metadata": {
  "interpreter": {
   "hash": "179de30ce882297bba160e9a701f4770bd2cfd849c5a5e4d23eb0fa222a0e664"
  },
  "kernelspec": {
   "display_name": "Python 3 (ipykernel)",
   "language": "python",
   "name": "python3"
  },
  "language_info": {
   "codemirror_mode": {
    "name": "ipython",
    "version": 3
   },
   "file_extension": ".py",
   "mimetype": "text/x-python",
   "name": "python",
   "nbconvert_exporter": "python",
   "pygments_lexer": "ipython3",
   "version": "3.9.9"
  },
  "vscode": {
   "interpreter": {
    "hash": "d1f870d34bcdf52e10ac0b8d2cd80f05de5376af0f0eb54c01c06fc223b4c3e0"
   }
  }
 },
 "nbformat": 4,
 "nbformat_minor": 2
}
